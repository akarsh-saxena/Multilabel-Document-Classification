{
  "nbformat": 4,
  "nbformat_minor": 0,
  "metadata": {
    "colab": {
      "name": "DNN Approach.ipynb",
      "provenance": []
    },
    "kernelspec": {
      "name": "python3",
      "display_name": "Python 3"
    }
  },
  "cells": [
    {
      "cell_type": "code",
      "metadata": {
        "id": "vdqFtYMpFTHm",
        "colab_type": "code",
        "colab": {}
      },
      "source": [
        "import re\n",
        "import numpy as np\n",
        "import pandas as pd\n",
        "import tqdm.auto as tqdm\n",
        "import matplotlib.pyplot as plt\n",
        "\n",
        "import nltk\n",
        "from nltk.corpus import stopwords\n",
        "from sklearn.model_selection import train_test_split\n",
        "from sklearn.feature_extraction.text import TfidfVectorizer\n",
        "\n",
        "import tensorflow as tf\n",
        "from tensorflow.keras.models import Sequential\n",
        "from tensorflow.keras.layers import Dense, Dropout, BatchNormalization\n",
        "from tensorflow.keras.callbacks import EarlyStopping, ReduceLROnPlateau\n",
        "\n",
        "\n",
        "nltk.download('punkt')\n",
        "nltk.download('stopwords')"
      ],
      "execution_count": null,
      "outputs": []
    },
    {
      "cell_type": "code",
      "metadata": {
        "id": "rUN-K6p6_2PU",
        "colab_type": "code",
        "colab": {}
      },
      "source": [
        "all_stopwords = stopwords.words('english')"
      ],
      "execution_count": null,
      "outputs": []
    },
    {
      "cell_type": "code",
      "metadata": {
        "colab_type": "code",
        "id": "k6K88rCo6vBN",
        "colab": {}
      },
      "source": [
        "def preprocess(text):\n",
        "  text = text.lower()\n",
        "  text = re.sub('[^a-z ]', ' ', text)\n",
        "  text = [word for word in text.split() if not word in all_stopwords and len(word)>1]\n",
        "  text = ' '.join(text)\n",
        "  return text"
      ],
      "execution_count": null,
      "outputs": []
    },
    {
      "cell_type": "code",
      "metadata": {
        "id": "DI6LvTiUBS8A",
        "colab_type": "code",
        "colab": {}
      },
      "source": [
        "def create_model(max_features, y):\n",
        "\n",
        "  model = Sequential()\n",
        "  model.add(Dense(1024, input_dim=max_features, activation='relu'))\n",
        "  model.add(Dropout(0.2))\n",
        "  model.add(BatchNormalization())\n",
        "  model.add(Dense(units=512, activation='relu'))\n",
        "  model.add(Dropout(0.2))\n",
        "  model.add(BatchNormalization())\n",
        "  model.add(Dense(units=256, activation='relu'))\n",
        "  model.add(Dropout(0.2))\n",
        "  model.add(BatchNormalization())\n",
        "  model.add(Dense(units=128, activation='relu'))\n",
        "  model.add(Dropout(0.2))\n",
        "  model.add(BatchNormalization())\n",
        "  model.add(Dense(units=y.shape[1], activation='sigmoid'))\n",
        "\n",
        "  return model"
      ],
      "execution_count": null,
      "outputs": []
    },
    {
      "cell_type": "code",
      "metadata": {
        "id": "RtGWgHE8CUKB",
        "colab_type": "code",
        "colab": {}
      },
      "source": [
        "def convert_sparse_matrix_to_sparse_tensor(X):\n",
        "    coo = X.tocoo()\n",
        "    indices = np.mat([coo.row, coo.col]).transpose()\n",
        "    return tf.sparse.reorder(tf.SparseTensor(indices, coo.data, coo.shape))"
      ],
      "execution_count": null,
      "outputs": []
    },
    {
      "cell_type": "code",
      "metadata": {
        "id": "Q5f4MuEdIevj",
        "colab_type": "code",
        "colab": {
          "base_uri": "https://localhost:8080/",
          "height": 296
        },
        "outputId": "4c2ff1f5-ce8e-4759-dcc1-812acbe22465"
      },
      "source": [
        "train = pd.read_csv('train.csv')\n",
        "train.drop('ID', axis=1, inplace=True)\n",
        "train.head()"
      ],
      "execution_count": null,
      "outputs": [
        {
          "output_type": "execute_result",
          "data": {
            "text/html": [
              "<div>\n",
              "<style scoped>\n",
              "    .dataframe tbody tr th:only-of-type {\n",
              "        vertical-align: middle;\n",
              "    }\n",
              "\n",
              "    .dataframe tbody tr th {\n",
              "        vertical-align: top;\n",
              "    }\n",
              "\n",
              "    .dataframe thead th {\n",
              "        text-align: right;\n",
              "    }\n",
              "</style>\n",
              "<table border=\"1\" class=\"dataframe\">\n",
              "  <thead>\n",
              "    <tr style=\"text-align: right;\">\n",
              "      <th></th>\n",
              "      <th>TITLE</th>\n",
              "      <th>ABSTRACT</th>\n",
              "      <th>Computer Science</th>\n",
              "      <th>Physics</th>\n",
              "      <th>Mathematics</th>\n",
              "      <th>Statistics</th>\n",
              "      <th>Quantitative Biology</th>\n",
              "      <th>Quantitative Finance</th>\n",
              "    </tr>\n",
              "  </thead>\n",
              "  <tbody>\n",
              "    <tr>\n",
              "      <th>0</th>\n",
              "      <td>Reconstructing Subject-Specific Effect Maps</td>\n",
              "      <td>Predictive models allow subject-specific inf...</td>\n",
              "      <td>1</td>\n",
              "      <td>0</td>\n",
              "      <td>0</td>\n",
              "      <td>0</td>\n",
              "      <td>0</td>\n",
              "      <td>0</td>\n",
              "    </tr>\n",
              "    <tr>\n",
              "      <th>1</th>\n",
              "      <td>Rotation Invariance Neural Network</td>\n",
              "      <td>Rotation invariance and translation invarian...</td>\n",
              "      <td>1</td>\n",
              "      <td>0</td>\n",
              "      <td>0</td>\n",
              "      <td>0</td>\n",
              "      <td>0</td>\n",
              "      <td>0</td>\n",
              "    </tr>\n",
              "    <tr>\n",
              "      <th>2</th>\n",
              "      <td>Spherical polyharmonics and Poisson kernels fo...</td>\n",
              "      <td>We introduce and develop the notion of spher...</td>\n",
              "      <td>0</td>\n",
              "      <td>0</td>\n",
              "      <td>1</td>\n",
              "      <td>0</td>\n",
              "      <td>0</td>\n",
              "      <td>0</td>\n",
              "    </tr>\n",
              "    <tr>\n",
              "      <th>3</th>\n",
              "      <td>A finite element approximation for the stochas...</td>\n",
              "      <td>The stochastic Landau--Lifshitz--Gilbert (LL...</td>\n",
              "      <td>0</td>\n",
              "      <td>0</td>\n",
              "      <td>1</td>\n",
              "      <td>0</td>\n",
              "      <td>0</td>\n",
              "      <td>0</td>\n",
              "    </tr>\n",
              "    <tr>\n",
              "      <th>4</th>\n",
              "      <td>Comparative study of Discrete Wavelet Transfor...</td>\n",
              "      <td>Fourier-transform infra-red (FTIR) spectra o...</td>\n",
              "      <td>1</td>\n",
              "      <td>0</td>\n",
              "      <td>0</td>\n",
              "      <td>1</td>\n",
              "      <td>0</td>\n",
              "      <td>0</td>\n",
              "    </tr>\n",
              "  </tbody>\n",
              "</table>\n",
              "</div>"
            ],
            "text/plain": [
              "                                               TITLE  ... Quantitative Finance\n",
              "0        Reconstructing Subject-Specific Effect Maps  ...                    0\n",
              "1                 Rotation Invariance Neural Network  ...                    0\n",
              "2  Spherical polyharmonics and Poisson kernels fo...  ...                    0\n",
              "3  A finite element approximation for the stochas...  ...                    0\n",
              "4  Comparative study of Discrete Wavelet Transfor...  ...                    0\n",
              "\n",
              "[5 rows x 8 columns]"
            ]
          },
          "metadata": {
            "tags": []
          },
          "execution_count": 5
        }
      ]
    },
    {
      "cell_type": "code",
      "metadata": {
        "colab_type": "code",
        "id": "AgbEpTsM6vBP",
        "colab": {}
      },
      "source": [
        "train['MERGED'] = train.TITLE + ' ' + train.ABSTRACT"
      ],
      "execution_count": null,
      "outputs": []
    },
    {
      "cell_type": "code",
      "metadata": {
        "colab_type": "code",
        "id": "GvGkwxhQ6vBR",
        "colab": {}
      },
      "source": [
        "train['MERGED'] = train.MERGED.apply(preprocess)"
      ],
      "execution_count": null,
      "outputs": []
    },
    {
      "cell_type": "code",
      "metadata": {
        "colab_type": "code",
        "id": "00lsnobTA70W",
        "colab": {
          "base_uri": "https://localhost:8080/",
          "height": 447
        },
        "outputId": "9eda7adf-b247-4068-eb3b-d984dfc8775f"
      },
      "source": [
        "train.head()"
      ],
      "execution_count": null,
      "outputs": [
        {
          "output_type": "execute_result",
          "data": {
            "text/html": [
              "<div>\n",
              "<style scoped>\n",
              "    .dataframe tbody tr th:only-of-type {\n",
              "        vertical-align: middle;\n",
              "    }\n",
              "\n",
              "    .dataframe tbody tr th {\n",
              "        vertical-align: top;\n",
              "    }\n",
              "\n",
              "    .dataframe thead th {\n",
              "        text-align: right;\n",
              "    }\n",
              "</style>\n",
              "<table border=\"1\" class=\"dataframe\">\n",
              "  <thead>\n",
              "    <tr style=\"text-align: right;\">\n",
              "      <th></th>\n",
              "      <th>TITLE</th>\n",
              "      <th>ABSTRACT</th>\n",
              "      <th>Computer Science</th>\n",
              "      <th>Physics</th>\n",
              "      <th>Mathematics</th>\n",
              "      <th>Statistics</th>\n",
              "      <th>Quantitative Biology</th>\n",
              "      <th>Quantitative Finance</th>\n",
              "      <th>MERGED</th>\n",
              "    </tr>\n",
              "  </thead>\n",
              "  <tbody>\n",
              "    <tr>\n",
              "      <th>0</th>\n",
              "      <td>Reconstructing Subject-Specific Effect Maps</td>\n",
              "      <td>Predictive models allow subject-specific inf...</td>\n",
              "      <td>1</td>\n",
              "      <td>0</td>\n",
              "      <td>0</td>\n",
              "      <td>0</td>\n",
              "      <td>0</td>\n",
              "      <td>0</td>\n",
              "      <td>reconstructing subject specific effect maps pr...</td>\n",
              "    </tr>\n",
              "    <tr>\n",
              "      <th>1</th>\n",
              "      <td>Rotation Invariance Neural Network</td>\n",
              "      <td>Rotation invariance and translation invarian...</td>\n",
              "      <td>1</td>\n",
              "      <td>0</td>\n",
              "      <td>0</td>\n",
              "      <td>0</td>\n",
              "      <td>0</td>\n",
              "      <td>0</td>\n",
              "      <td>rotation invariance neural network rotation in...</td>\n",
              "    </tr>\n",
              "    <tr>\n",
              "      <th>2</th>\n",
              "      <td>Spherical polyharmonics and Poisson kernels fo...</td>\n",
              "      <td>We introduce and develop the notion of spher...</td>\n",
              "      <td>0</td>\n",
              "      <td>0</td>\n",
              "      <td>1</td>\n",
              "      <td>0</td>\n",
              "      <td>0</td>\n",
              "      <td>0</td>\n",
              "      <td>spherical polyharmonics poisson kernels polyha...</td>\n",
              "    </tr>\n",
              "    <tr>\n",
              "      <th>3</th>\n",
              "      <td>A finite element approximation for the stochas...</td>\n",
              "      <td>The stochastic Landau--Lifshitz--Gilbert (LL...</td>\n",
              "      <td>0</td>\n",
              "      <td>0</td>\n",
              "      <td>1</td>\n",
              "      <td>0</td>\n",
              "      <td>0</td>\n",
              "      <td>0</td>\n",
              "      <td>finite element approximation stochastic maxwel...</td>\n",
              "    </tr>\n",
              "    <tr>\n",
              "      <th>4</th>\n",
              "      <td>Comparative study of Discrete Wavelet Transfor...</td>\n",
              "      <td>Fourier-transform infra-red (FTIR) spectra o...</td>\n",
              "      <td>1</td>\n",
              "      <td>0</td>\n",
              "      <td>0</td>\n",
              "      <td>1</td>\n",
              "      <td>0</td>\n",
              "      <td>0</td>\n",
              "      <td>comparative study discrete wavelet transforms ...</td>\n",
              "    </tr>\n",
              "  </tbody>\n",
              "</table>\n",
              "</div>"
            ],
            "text/plain": [
              "                                               TITLE  ...                                             MERGED\n",
              "0        Reconstructing Subject-Specific Effect Maps  ...  reconstructing subject specific effect maps pr...\n",
              "1                 Rotation Invariance Neural Network  ...  rotation invariance neural network rotation in...\n",
              "2  Spherical polyharmonics and Poisson kernels fo...  ...  spherical polyharmonics poisson kernels polyha...\n",
              "3  A finite element approximation for the stochas...  ...  finite element approximation stochastic maxwel...\n",
              "4  Comparative study of Discrete Wavelet Transfor...  ...  comparative study discrete wavelet transforms ...\n",
              "\n",
              "[5 rows x 9 columns]"
            ]
          },
          "metadata": {
            "tags": []
          },
          "execution_count": 91
        }
      ]
    },
    {
      "cell_type": "code",
      "metadata": {
        "colab_type": "code",
        "id": "MaDKoC6q6vBX",
        "colab": {
          "base_uri": "https://localhost:8080/",
          "height": 349
        },
        "outputId": "8fc35a36-ba85-4f36-f120-36598d48a1c4"
      },
      "source": [
        "plt.hist([len(title) for title in train.MERGED])"
      ],
      "execution_count": null,
      "outputs": [
        {
          "output_type": "execute_result",
          "data": {
            "text/plain": [
              "(array([6.460e+02, 2.646e+03, 5.110e+03, 5.664e+03, 3.871e+03, 2.173e+03,\n",
              "        7.910e+02, 6.200e+01, 7.000e+00, 2.000e+00]),\n",
              " array([  4. ,  33.2,  62.4,  91.6, 120.8, 150. , 179.2, 208.4, 237.6,\n",
              "        266.8, 296. ]),\n",
              " <a list of 10 Patch objects>)"
            ]
          },
          "metadata": {
            "tags": []
          },
          "execution_count": 11
        },
        {
          "output_type": "display_data",
          "data": {
            "image/png": "[encoded data removed]",
            "text/plain": [
              "<Figure size 432x288 with 1 Axes>"
            ]
          },
          "metadata": {
            "tags": [],
            "needs_background": "light"
          }
        }
      ]
    },
    {
      "cell_type": "code",
      "metadata": {
        "colab_type": "code",
        "id": "bc4O0vjlHMQx",
        "colab": {}
      },
      "source": [
        "max_len_merged = max([len(abstract.split()) for abstract in train.MERGED])\n",
        "vocab_len = len({word for word_list in train.MERGED for word in word_list.split()})"
      ],
      "execution_count": null,
      "outputs": []
    },
    {
      "cell_type": "code",
      "metadata": {
        "colab_type": "code",
        "id": "y0RGtZ0AHMQ3",
        "colab": {
          "base_uri": "https://localhost:8080/",
          "height": 50
        },
        "outputId": "958f7667-fcc3-425d-9117-bae396890702"
      },
      "source": [
        "print(max_len_merged)\n",
        "print(vocab_len)"
      ],
      "execution_count": null,
      "outputs": [
        {
          "output_type": "stream",
          "text": [
            "259\n",
            "50759\n"
          ],
          "name": "stdout"
        }
      ]
    },
    {
      "cell_type": "code",
      "metadata": {
        "id": "1l_Nlzkp-0gn",
        "colab_type": "code",
        "colab": {}
      },
      "source": [
        "train.drop(['TITLE', 'ABSTRACT'], axis=1, inplace=True)"
      ],
      "execution_count": null,
      "outputs": []
    },
    {
      "cell_type": "code",
      "metadata": {
        "id": "f-t1CF8u676K",
        "colab_type": "code",
        "colab": {}
      },
      "source": [
        "max_features = 300000\n",
        "\n",
        "tvec = TfidfVectorizer(smooth_idf=True, use_idf=True, ngram_range=(1, 3), dtype=np.float32, max_features=max_features)"
      ],
      "execution_count": null,
      "outputs": []
    },
    {
      "cell_type": "code",
      "metadata": {
        "id": "tBoQ7RZW6udp",
        "colab_type": "code",
        "colab": {
          "base_uri": "https://localhost:8080/",
          "height": 34
        },
        "outputId": "840ceb20-4392-4b24-bd80-8e6980aa95a1"
      },
      "source": [
        "X = tvec.fit_transform(train.MERGED)\n",
        "X.shape"
      ],
      "execution_count": null,
      "outputs": [
        {
          "output_type": "execute_result",
          "data": {
            "text/plain": [
              "(20972, 300000)"
            ]
          },
          "metadata": {
            "tags": []
          },
          "execution_count": 96
        }
      ]
    },
    {
      "cell_type": "code",
      "metadata": {
        "colab_type": "code",
        "id": "nQygiF-vIoyA",
        "colab": {}
      },
      "source": [
        "y = train.iloc[:, :-1]"
      ],
      "execution_count": null,
      "outputs": []
    },
    {
      "cell_type": "code",
      "metadata": {
        "id": "3OwphAR4CTRn",
        "colab_type": "code",
        "colab": {}
      },
      "source": [
        "X_train, X_test, y_train, y_test = train_test_split(X, y, test_size=0.05, random_state=0)"
      ],
      "execution_count": null,
      "outputs": []
    },
    {
      "cell_type": "code",
      "metadata": {
        "id": "g_-m9nDwC1Tt",
        "colab_type": "code",
        "colab": {}
      },
      "source": [
        "X_train = convert_sparse_matrix_to_sparse_tensor(X_train)\n",
        "X_test = convert_sparse_matrix_to_sparse_tensor(X_test)"
      ],
      "execution_count": null,
      "outputs": []
    },
    {
      "cell_type": "code",
      "metadata": {
        "id": "g1HH7ho6CIb0",
        "colab_type": "code",
        "colab": {}
      },
      "source": [
        "model = create_model(max_features, y)\n",
        "model.compile(optimizer='adam', loss='binary_crossentropy', metrics=['acc'])"
      ],
      "execution_count": null,
      "outputs": []
    },
    {
      "cell_type": "code",
      "metadata": {
        "id": "zDwKnIMzCoos",
        "colab_type": "code",
        "colab": {}
      },
      "source": [
        "y_train = tf.convert_to_tensor(y_train, bool)\n",
        "y_test = tf.convert_to_tensor(y_test, bool)"
      ],
      "execution_count": null,
      "outputs": []
    },
    {
      "cell_type": "code",
      "metadata": {
        "id": "fgZm_JeOCpS-",
        "colab_type": "code",
        "colab": {}
      },
      "source": [
        "reduce_lr = ReduceLROnPlateau(patience=4, verbose=1)\n",
        "es = EarlyStopping(patience=5)"
      ],
      "execution_count": null,
      "outputs": []
    },
    {
      "cell_type": "code",
      "metadata": {
        "id": "59Sw1_JEvyE1",
        "colab_type": "code",
        "colab": {
          "base_uri": "https://localhost:8080/",
          "height": 373
        },
        "outputId": "4213465e-101a-47e4-a8d4-9771428dac60"
      },
      "source": [
        "model.fit(X_train, y_train, batch_size=128, epochs=50, validation_data=(X_test, y_test), callbacks=[reduce_lr, es])"
      ],
      "execution_count": null,
      "outputs": [
        {
          "output_type": "stream",
          "text": [
            "Epoch 1/50\n",
            "  2/156 [..............................] - ETA: 8s - loss: 0.8764 - accuracy: 0.1875WARNING:tensorflow:Callbacks method `on_train_batch_end` is slow compared to the batch time (batch time: 0.0124s vs `on_train_batch_end` time: 0.0976s). Check your callbacks.\n",
            "156/156 [==============================] - 14s 91ms/step - loss: 0.3846 - accuracy: 0.7063 - val_loss: 0.4339 - val_accuracy: 0.4137\n",
            "Epoch 2/50\n",
            "156/156 [==============================] - 14s 90ms/step - loss: 0.1030 - accuracy: 0.8280 - val_loss: 0.2497 - val_accuracy: 0.7931\n",
            "Epoch 3/50\n",
            "156/156 [==============================] - 14s 90ms/step - loss: 0.0366 - accuracy: 0.8495 - val_loss: 0.2033 - val_accuracy: 0.8027\n",
            "Epoch 4/50\n",
            "156/156 [==============================] - 14s 91ms/step - loss: 0.0168 - accuracy: 0.8511 - val_loss: 0.2511 - val_accuracy: 0.7817\n",
            "Epoch 5/50\n",
            "156/156 [==============================] - 14s 91ms/step - loss: 0.0097 - accuracy: 0.8512 - val_loss: 0.2936 - val_accuracy: 0.7722\n",
            "Epoch 6/50\n",
            "156/156 [==============================] - 14s 91ms/step - loss: 0.0056 - accuracy: 0.8477 - val_loss: 0.3243 - val_accuracy: 0.7798\n",
            "Epoch 7/50\n",
            "156/156 [==============================] - ETA: 0s - loss: 0.0041 - accuracy: 0.8502\n",
            "Epoch 00007: ReduceLROnPlateau reducing learning rate to 0.00010000000474974513.\n",
            "156/156 [==============================] - 14s 91ms/step - loss: 0.0041 - accuracy: 0.8502 - val_loss: 0.3379 - val_accuracy: 0.7827\n",
            "Epoch 8/50\n",
            "156/156 [==============================] - 14s 91ms/step - loss: 0.0034 - accuracy: 0.8523 - val_loss: 0.3326 - val_accuracy: 0.7779\n"
          ],
          "name": "stdout"
        },
        {
          "output_type": "execute_result",
          "data": {
            "text/plain": [
              "<tensorflow.python.keras.callbacks.History at 0x7f13b1d794a8>"
            ]
          },
          "metadata": {
            "tags": []
          },
          "execution_count": 109
        }
      ]
    },
    {
      "cell_type": "markdown",
      "metadata": {
        "id": "M6ik1Zk50DUh",
        "colab_type": "text"
      },
      "source": [
        "This model was giving 82.5% accuracy on the test dataset."
      ]
    }
  ]
}